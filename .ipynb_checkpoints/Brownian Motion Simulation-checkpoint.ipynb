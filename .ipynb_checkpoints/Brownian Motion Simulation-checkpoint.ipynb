{
 "cells": [
  {
   "cell_type": "code",
   "execution_count": null,
   "id": "679b73b3",
   "metadata": {},
   "outputs": [],
   "source": [
    "import numpy as np, matplotlib.pyplot as plt, seaborn as sns\n",
    "import pandas as pd, scipy.stats as stats"
   ]
  },
  {
   "cell_type": "code",
   "execution_count": null,
   "id": "114e222e",
   "metadata": {},
   "outputs": [],
   "source": [
    "class blackScholesGenerator:\n",
    "    def __init__(self, initialPrice = 100.0, volatility = 0.2, timeToExpiry = 1.0\n",
    "                , riskFreeRate = 0.0, numPaths = 1, numTradingDates = 1):\n",
    "        self.initialPrice = initialPrice\n",
    "        self.volatility = volatility\n",
    "        self.timeToExpiry = timeToExpiry\n",
    "        self.riskFreeRate = riskFreeRate\n",
    "        self.numPaths = numPaths\n",
    "        self.numTradingDates = numTradingDates\n",
    "        \n",
    "    def blackScholesPaths(self):\n",
    "        # Black Scholes Paths created using geometric Brownian Motion\n",
    "        # Closed form solution for Price Path\n",
    "        deltaT = self.timeToExpiry / self.numTradingDates\n",
    "        normMatrix = np.random.normal(loc = 0.0\n",
    "                                      , scale = 1.0\n",
    "                                      , size = (self.numPaths, self.numTradingDates)\n",
    "                                     )\n",
    "        exponentialTerm = np.cumsum(np.append(np.zeros((self.numPaths, 1))\n",
    "                                              , (self.riskFreeRate - 0.5 * self.volatility ** 2) *\n",
    "                                              deltaT + deltaT * np.sqrt(self.volatility) * normMatrix\n",
    "                                              , axis = 1)\n",
    "                                   , axis = 1)\n",
    "        bsPaths = self.initialPrice * np.exp(exponentialTerm)\n",
    "        return bsPaths         \n",
    "                           \n",
    "                           "
   ]
  }
 ],
 "metadata": {
  "kernelspec": {
   "display_name": "Python 3 (ipykernel)",
   "language": "python",
   "name": "python3"
  },
  "language_info": {
   "codemirror_mode": {
    "name": "ipython",
    "version": 3
   },
   "file_extension": ".py",
   "mimetype": "text/x-python",
   "name": "python",
   "nbconvert_exporter": "python",
   "pygments_lexer": "ipython3",
   "version": "3.7.11"
  }
 },
 "nbformat": 4,
 "nbformat_minor": 5
}

{
 "cells": [
  {
   "cell_type": "code",
   "execution_count": 1,
   "id": "b5fd8ef1",
   "metadata": {},
   "outputs": [],
   "source": [
    "import numpy as np, matplotlib.pyplot as plt, seaborn as sns\n",
    "import pandas as pd, scipy.stats as stats\n",
    "from tqdm import tqdm\n",
    "import torch, torch.nn as nn, torch.optim as optim, torch.nn.functional as F\n",
    "device = torch.device(\"cuda\" if torch.cuda.is_available() else \"cpu\")"
   ]
  },
  {
   "cell_type": "markdown",
   "id": "c2bf7aec",
   "metadata": {},
   "source": [
    "# Neural Network Strategy Set Up\n",
    "This code will set up a feed forward neural network as a base model to test the algorithm."
   ]
  },
  {
   "cell_type": "code",
   "execution_count": 3,
   "id": "cadfe35d",
   "metadata": {},
   "outputs": [],
   "source": [
    "class Strategy(nn.Module):\n",
    "    def __init__(self, hiddenNodes, numTradingDates):\n",
    "        super(Strategy, self).__init__()\n",
    "        \n",
    "        # Price of the Options\n",
    "        self.price = nn.Parameter(torch.tensor(0, dtype = torch.float32))\n",
    "        \n",
    "        # Trading/Hedging Strategy\n",
    "        self.steps = nn.ModuleList()\n",
    "        for i in range(numTradingDates):\n",
    "            h_i = nn.Sequential(nn.Linear(1, hiddenNodes)\n",
    "                               , nn.ReLu()\n",
    "                               , nn.Linear(hiddenNodes, 1)\n",
    "                               )\n",
    "            \n",
    "            self.steps.append(h_i)\n",
    "        \n",
    "    def forward(self, x): # x is a subset of paths of price process\n",
    "        dS = torch.diff(x)\n",
    "        ret = torch.zeros_like(dS[:,0]) + self.price\n",
    "        \n",
    "        for i in range(len(self.steps)):\n",
    "            logS = torch.log(x[i,:])\n",
    "            h_i = self.steps[i]\n",
    "            H_i = h_i(logS.unsqueeze(-1)) # separates logS (single list) values into list of single-valued lists.\n",
    "            ret += dS[:, i] * H_i.flatten()\n",
    "            return ret\n",
    "        "
   ]
  }
 ],
 "metadata": {
  "kernelspec": {
   "display_name": "Python 3 (ipykernel)",
   "language": "python",
   "name": "python3"
  },
  "language_info": {
   "codemirror_mode": {
    "name": "ipython",
    "version": 3
   },
   "file_extension": ".py",
   "mimetype": "text/x-python",
   "name": "python",
   "nbconvert_exporter": "python",
   "pygments_lexer": "ipython3",
   "version": "3.7.11"
  }
 },
 "nbformat": 4,
 "nbformat_minor": 5
}
